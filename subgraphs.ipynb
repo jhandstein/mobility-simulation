{
 "cells": [
  {
   "cell_type": "code",
   "execution_count": 1,
   "metadata": {},
   "outputs": [],
   "source": [
    "import numpy as np\n",
    "import pandas as pd\n",
    "import networkx as nx\n",
    "import uuid\n",
    "import shortuuid\n",
    "import scipy.spatial.distance as dist\n",
    "from enum import Enum\n",
    "from abc import ABC, abstractmethod\n"
   ]
  },
  {
   "cell_type": "code",
   "execution_count": 2,
   "metadata": {},
   "outputs": [],
   "source": [
    "class BuildingType(Enum):\n",
    "    # define the types of buildings\n",
    "    # 0: home\n",
    "    # 1: school\n",
    "    # 2: groceries\n",
    "    NONE = '-'\n",
    "    HOME = 'H'\n",
    "    SCHOOL = 'S'\n",
    "    GROCERIES = 'G'\n",
    "    PAVEMENT = 'P'"
   ]
  },
  {
   "cell_type": "code",
   "execution_count": 3,
   "metadata": {},
   "outputs": [
    {
     "data": {
      "text/plain": [
       "'H'"
      ]
     },
     "execution_count": 3,
     "metadata": {},
     "output_type": "execute_result"
    }
   ],
   "source": [
    "BuildingType.HOME.value"
   ]
  },
  {
   "cell_type": "code",
   "execution_count": 4,
   "metadata": {},
   "outputs": [],
   "source": [
    "class Node:\n",
    "\n",
    "    node_list = []\n",
    "\n",
    "    def __init__(self, subgraph, coordinates: tuple, btype=BuildingType.NONE) -> None:\n",
    "        self.id = shortuuid.uuid()\n",
    "        self.coordinates = coordinates\n",
    "        self.logo = btype.value\n",
    "        self.element_type = None\n",
    "        self.node_list.append(self)\n",
    "        self.subgraph = subgraph\n",
    "        self.subgraph.add_node(self)\n",
    "\n",
    "    def __repr__(self) -> str:\n",
    "        return f\"Node({str(self.id)}, {self.coordinates}, {self.logo})\"\n",
    "\n",
    "    def place_on_grid(self, dataframe):\n",
    "        row,col = self.coordinates\n",
    "        dataframe[row][col] = self.logo\n",
    "        return dataframe\n",
    "    \n",
    "    def euclidean_distance(self, node):\n",
    "        return round(dist.euclidean(self.coordinates, node.coordinates), 2)\n",
    "\n",
    "class Buidling(Node):\n",
    "\n",
    "    def __init__(self, subgraph, coordinates: tuple, btype: BuildingType) -> None:\n",
    "        super().__init__(subgraph, coordinates, btype)\n",
    "        self.element_type = \"building\"\n",
    "\n",
    "class Pavement(Node):\n",
    "\n",
    "    def __init__(self, subgraph, coordinates: tuple, btype=BuildingType.PAVEMENT) -> None:\n",
    "        super().__init__(subgraph, coordinates, btype)\n",
    "        self.element_type = \"pavement\"\n",
    "\n"
   ]
  },
  {
   "cell_type": "code",
   "execution_count": 5,
   "metadata": {},
   "outputs": [],
   "source": [
    "# Traffic Graph Class\n",
    "class TrafficGraph(nx.Graph):\n",
    "\n",
    "    def __init__(self, element_type: str) -> None:\n",
    "        super().__init__()\n",
    "        self.element_type = element_type\n",
    "\n",
    "    def add_node(self, node: Node) -> None:\n",
    "        super().add_node(node)\n",
    "    \n",
    "    def add_edge(self, source: Node, sinks: list) -> None:\n",
    "        if not isinstance(sinks, list):\n",
    "            sinks = [sinks]\n",
    "        for sink in sinks:\n",
    "            super().add_edge(source, sink, weight=source.euclidean_distance(sink))\n"
   ]
  },
  {
   "attachments": {},
   "cell_type": "markdown",
   "metadata": {},
   "source": [
    "### Create Nodes"
   ]
  },
  {
   "cell_type": "code",
   "execution_count": 6,
   "metadata": {},
   "outputs": [],
   "source": [
    "pavements = TrafficGraph(\"pavement\")\n",
    "buildings = TrafficGraph(\"building\")"
   ]
  },
  {
   "cell_type": "code",
   "execution_count": 7,
   "metadata": {},
   "outputs": [],
   "source": [
    "\n",
    "\n",
    "# create buidlings\n",
    "groceries = Buidling(buildings, (1,1), BuildingType.GROCERIES)\n",
    "school = Buidling(buildings, (1,9), BuildingType.SCHOOL)\n",
    "home = Buidling(buildings, (7,1), BuildingType.HOME)\n",
    "\n",
    "# create pavements froom groceries to school \n",
    "for i in range(2, 9):\n",
    "    Pavement(pavements, (1,i))\n",
    "\n",
    "# create pavements from grocieres to home\n",
    "for i in range(2, 7):\n",
    "    Pavement(pavements, (i,1))\n",
    "\n",
    "\n"
   ]
  },
  {
   "cell_type": "code",
   "execution_count": 8,
   "metadata": {},
   "outputs": [
    {
     "data": {
      "text/html": [
       "<div>\n",
       "<style scoped>\n",
       "    .dataframe tbody tr th:only-of-type {\n",
       "        vertical-align: middle;\n",
       "    }\n",
       "\n",
       "    .dataframe tbody tr th {\n",
       "        vertical-align: top;\n",
       "    }\n",
       "\n",
       "    .dataframe thead th {\n",
       "        text-align: right;\n",
       "    }\n",
       "</style>\n",
       "<table border=\"1\" class=\"dataframe\">\n",
       "  <thead>\n",
       "    <tr style=\"text-align: right;\">\n",
       "      <th></th>\n",
       "      <th>0</th>\n",
       "      <th>1</th>\n",
       "      <th>2</th>\n",
       "      <th>3</th>\n",
       "      <th>4</th>\n",
       "      <th>5</th>\n",
       "      <th>6</th>\n",
       "      <th>7</th>\n",
       "      <th>8</th>\n",
       "      <th>9</th>\n",
       "    </tr>\n",
       "  </thead>\n",
       "  <tbody>\n",
       "    <tr>\n",
       "      <th>0</th>\n",
       "      <td>*</td>\n",
       "      <td>*</td>\n",
       "      <td>*</td>\n",
       "      <td>*</td>\n",
       "      <td>*</td>\n",
       "      <td>*</td>\n",
       "      <td>*</td>\n",
       "      <td>*</td>\n",
       "      <td>*</td>\n",
       "      <td>*</td>\n",
       "    </tr>\n",
       "    <tr>\n",
       "      <th>1</th>\n",
       "      <td>*</td>\n",
       "      <td>G</td>\n",
       "      <td>P</td>\n",
       "      <td>P</td>\n",
       "      <td>P</td>\n",
       "      <td>P</td>\n",
       "      <td>P</td>\n",
       "      <td>H</td>\n",
       "      <td>*</td>\n",
       "      <td>*</td>\n",
       "    </tr>\n",
       "    <tr>\n",
       "      <th>2</th>\n",
       "      <td>*</td>\n",
       "      <td>P</td>\n",
       "      <td>*</td>\n",
       "      <td>*</td>\n",
       "      <td>*</td>\n",
       "      <td>*</td>\n",
       "      <td>*</td>\n",
       "      <td>*</td>\n",
       "      <td>*</td>\n",
       "      <td>*</td>\n",
       "    </tr>\n",
       "    <tr>\n",
       "      <th>3</th>\n",
       "      <td>*</td>\n",
       "      <td>P</td>\n",
       "      <td>*</td>\n",
       "      <td>*</td>\n",
       "      <td>*</td>\n",
       "      <td>*</td>\n",
       "      <td>*</td>\n",
       "      <td>*</td>\n",
       "      <td>*</td>\n",
       "      <td>*</td>\n",
       "    </tr>\n",
       "    <tr>\n",
       "      <th>4</th>\n",
       "      <td>*</td>\n",
       "      <td>P</td>\n",
       "      <td>*</td>\n",
       "      <td>*</td>\n",
       "      <td>*</td>\n",
       "      <td>*</td>\n",
       "      <td>*</td>\n",
       "      <td>*</td>\n",
       "      <td>*</td>\n",
       "      <td>*</td>\n",
       "    </tr>\n",
       "    <tr>\n",
       "      <th>5</th>\n",
       "      <td>*</td>\n",
       "      <td>P</td>\n",
       "      <td>*</td>\n",
       "      <td>*</td>\n",
       "      <td>*</td>\n",
       "      <td>*</td>\n",
       "      <td>*</td>\n",
       "      <td>*</td>\n",
       "      <td>*</td>\n",
       "      <td>*</td>\n",
       "    </tr>\n",
       "    <tr>\n",
       "      <th>6</th>\n",
       "      <td>*</td>\n",
       "      <td>P</td>\n",
       "      <td>*</td>\n",
       "      <td>*</td>\n",
       "      <td>*</td>\n",
       "      <td>*</td>\n",
       "      <td>*</td>\n",
       "      <td>*</td>\n",
       "      <td>*</td>\n",
       "      <td>*</td>\n",
       "    </tr>\n",
       "    <tr>\n",
       "      <th>7</th>\n",
       "      <td>*</td>\n",
       "      <td>P</td>\n",
       "      <td>*</td>\n",
       "      <td>*</td>\n",
       "      <td>*</td>\n",
       "      <td>*</td>\n",
       "      <td>*</td>\n",
       "      <td>*</td>\n",
       "      <td>*</td>\n",
       "      <td>*</td>\n",
       "    </tr>\n",
       "    <tr>\n",
       "      <th>8</th>\n",
       "      <td>*</td>\n",
       "      <td>P</td>\n",
       "      <td>*</td>\n",
       "      <td>*</td>\n",
       "      <td>*</td>\n",
       "      <td>*</td>\n",
       "      <td>*</td>\n",
       "      <td>*</td>\n",
       "      <td>*</td>\n",
       "      <td>*</td>\n",
       "    </tr>\n",
       "    <tr>\n",
       "      <th>9</th>\n",
       "      <td>*</td>\n",
       "      <td>S</td>\n",
       "      <td>*</td>\n",
       "      <td>*</td>\n",
       "      <td>*</td>\n",
       "      <td>*</td>\n",
       "      <td>*</td>\n",
       "      <td>*</td>\n",
       "      <td>*</td>\n",
       "      <td>*</td>\n",
       "    </tr>\n",
       "  </tbody>\n",
       "</table>\n",
       "</div>"
      ],
      "text/plain": [
       "   0  1  2  3  4  5  6  7  8  9\n",
       "0  *  *  *  *  *  *  *  *  *  *\n",
       "1  *  G  P  P  P  P  P  H  *  *\n",
       "2  *  P  *  *  *  *  *  *  *  *\n",
       "3  *  P  *  *  *  *  *  *  *  *\n",
       "4  *  P  *  *  *  *  *  *  *  *\n",
       "5  *  P  *  *  *  *  *  *  *  *\n",
       "6  *  P  *  *  *  *  *  *  *  *\n",
       "7  *  P  *  *  *  *  *  *  *  *\n",
       "8  *  P  *  *  *  *  *  *  *  *\n",
       "9  *  S  *  *  *  *  *  *  *  *"
      ]
     },
     "execution_count": 8,
     "metadata": {},
     "output_type": "execute_result"
    }
   ],
   "source": [
    "def initalize_grid(symbol: str='*') -> pd.DataFrame:\n",
    "    grid = pd.DataFrame(np.chararray((10,10), itemsize=2))\n",
    "    grid[:] = symbol\n",
    "    for node in Node.node_list:\n",
    "        grid = node.place_on_grid(grid)\n",
    "    return grid\n",
    "\n",
    "# create a grid\n",
    "grid = initalize_grid()\n",
    "grid"
   ]
  },
  {
   "cell_type": "code",
   "execution_count": 9,
   "metadata": {},
   "outputs": [
    {
     "data": {
      "text/plain": [
       "[Node(gAKyfiB2gvhk3M4zesJCHX, (1, 1), G),\n",
       " Node(SmNc8aqKQqR6HEu6U3mEuB, (1, 9), S),\n",
       " Node(GYR9pCcwYY2XY9TxXdDCnM, (7, 1), H),\n",
       " Node(dNACFqpPdwNp8qoxYauP82, (1, 2), P),\n",
       " Node(PHNeqBRRyKVRqxzooC5AFa, (1, 3), P),\n",
       " Node(6yHugKLTsZJ3BKCMmz869Q, (1, 4), P),\n",
       " Node(YNWrBX8w6YwPcnuLYwteJA, (1, 5), P),\n",
       " Node(ABGXREiYvdtqDDN3HFaWwB, (1, 6), P),\n",
       " Node(XQ5uCrbivtNXbyJtwtJirs, (1, 7), P),\n",
       " Node(8rKy9ztEH7z9AMpokagfkJ, (1, 8), P),\n",
       " Node(23wHU3yz8zvwQ8hRzfpjpH, (2, 1), P),\n",
       " Node(Msmr9nNPXxEGgYFRCwLQnh, (3, 1), P),\n",
       " Node(nj4T2NZSGmFnuGWqBgf6kn, (4, 1), P),\n",
       " Node(gRrLuGysZCKdBxPLKh9n5M, (5, 1), P),\n",
       " Node(9HqtLUwQb3PHsTgmGHaZA7, (6, 1), P)]"
      ]
     },
     "execution_count": 9,
     "metadata": {},
     "output_type": "execute_result"
    }
   ],
   "source": [
    "Node.node_list"
   ]
  },
  {
   "cell_type": "code",
   "execution_count": 10,
   "metadata": {},
   "outputs": [
    {
     "data": {
      "text/plain": [
       "NodeView((Node(gAKyfiB2gvhk3M4zesJCHX, (1, 1), G), Node(SmNc8aqKQqR6HEu6U3mEuB, (1, 9), S), Node(GYR9pCcwYY2XY9TxXdDCnM, (7, 1), H)))"
      ]
     },
     "execution_count": 10,
     "metadata": {},
     "output_type": "execute_result"
    }
   ],
   "source": [
    "# buildings.add_node(school)\n",
    "# buildings.add_node(home)\n",
    "# buildings.add_node(groceries)\n",
    "buildings.nodes\n",
    "# buildings.node_register"
   ]
  },
  {
   "cell_type": "code",
   "execution_count": 11,
   "metadata": {},
   "outputs": [
    {
     "name": "stdout",
     "output_type": "stream",
     "text": [
      "1.0 \t dNACFqpPdwNp8qoxYauP82\n",
      "1.0\n",
      "2.0 \t PHNeqBRRyKVRqxzooC5AFa\n",
      "3.0 \t 6yHugKLTsZJ3BKCMmz869Q\n",
      "4.0 \t YNWrBX8w6YwPcnuLYwteJA\n",
      "5.0 \t ABGXREiYvdtqDDN3HFaWwB\n",
      "6.0 \t XQ5uCrbivtNXbyJtwtJirs\n",
      "7.0 \t 8rKy9ztEH7z9AMpokagfkJ\n",
      "1.0 \t 23wHU3yz8zvwQ8hRzfpjpH\n",
      "2.0 \t Msmr9nNPXxEGgYFRCwLQnh\n",
      "3.0 \t nj4T2NZSGmFnuGWqBgf6kn\n",
      "4.0 \t gRrLuGysZCKdBxPLKh9n5M\n",
      "5.0 \t 9HqtLUwQb3PHsTgmGHaZA7\n",
      "1.0 dNACFqpPdwNp8qoxYauP82\n"
     ]
    }
   ],
   "source": [
    "# find pavements closest to school\n",
    "min_value = 100\n",
    "for pavement in pavements.nodes:\n",
    "    print(pavement.euclidean_distance(groceries), '\\t',pavement.id)\n",
    "    if pavement.euclidean_distance(groceries) < min_value:\n",
    "        min_value = pavement.euclidean_distance(groceries)\n",
    "        print(min_value)\n",
    "        closest = pavement\n",
    "print(min_value, closest.id)  "
   ]
  },
  {
   "cell_type": "code",
   "execution_count": 12,
   "metadata": {},
   "outputs": [],
   "source": [
    "def closted_pavements(node: Node, graph: TrafficGraph) -> list:\n",
    "    distances = [node.euclidean_distance(pavement) for pavement in graph.nodes]\n",
    "    min_value = min(distances)\n",
    "    closest = [idx for idx, distance in enumerate(distances) if distance == min_value]\n",
    "    nodes = [node for node in graph.nodes]\n",
    "    return [nodes[idx] for idx in closest]"
   ]
  },
  {
   "cell_type": "code",
   "execution_count": 13,
   "metadata": {},
   "outputs": [
    {
     "data": {
      "text/plain": [
       "[Node(dNACFqpPdwNp8qoxYauP82, (1, 2), P),\n",
       " Node(23wHU3yz8zvwQ8hRzfpjpH, (2, 1), P)]"
      ]
     },
     "execution_count": 13,
     "metadata": {},
     "output_type": "execute_result"
    }
   ],
   "source": [
    "closted_pavements(groceries, pavements)"
   ]
  },
  {
   "cell_type": "code",
   "execution_count": 14,
   "metadata": {},
   "outputs": [
    {
     "data": {
      "text/plain": [
       "[Node(8rKy9ztEH7z9AMpokagfkJ, (1, 8), P)]"
      ]
     },
     "execution_count": 14,
     "metadata": {},
     "output_type": "execute_result"
    }
   ],
   "source": [
    "closted_pavements(school, pavements)"
   ]
  },
  {
   "cell_type": "code",
   "execution_count": 15,
   "metadata": {},
   "outputs": [
    {
     "data": {
      "text/plain": [
       "EdgeView([(Node(SmNc8aqKQqR6HEu6U3mEuB, (1, 9), S), Node(8rKy9ztEH7z9AMpokagfkJ, (1, 8), P))])"
      ]
     },
     "execution_count": 15,
     "metadata": {},
     "output_type": "execute_result"
    }
   ],
   "source": [
    "buildings.add_edge(school, closted_pavements(school, pavements))\n",
    "buildings.edges\n"
   ]
  },
  {
   "cell_type": "code",
   "execution_count": 16,
   "metadata": {},
   "outputs": [
    {
     "data": {
      "text/plain": [
       "EdgeView([(Node(gAKyfiB2gvhk3M4zesJCHX, (1, 1), G), Node(dNACFqpPdwNp8qoxYauP82, (1, 2), P)), (Node(gAKyfiB2gvhk3M4zesJCHX, (1, 1), G), Node(23wHU3yz8zvwQ8hRzfpjpH, (2, 1), P)), (Node(SmNc8aqKQqR6HEu6U3mEuB, (1, 9), S), Node(8rKy9ztEH7z9AMpokagfkJ, (1, 8), P)), (Node(GYR9pCcwYY2XY9TxXdDCnM, (7, 1), H), Node(9HqtLUwQb3PHsTgmGHaZA7, (6, 1), P))])"
      ]
     },
     "execution_count": 16,
     "metadata": {},
     "output_type": "execute_result"
    }
   ],
   "source": [
    "buildings.add_edge(groceries, closted_pavements(groceries, pavements))\n",
    "buildings.add_edge(home, closted_pavements(home, pavements))\n",
    "buildings.edges"
   ]
  },
  {
   "cell_type": "code",
   "execution_count": 17,
   "metadata": {},
   "outputs": [
    {
     "data": {
      "text/plain": [
       "EdgeView([(Node(dNACFqpPdwNp8qoxYauP82, (1, 2), P), Node(PHNeqBRRyKVRqxzooC5AFa, (1, 3), P)), (Node(PHNeqBRRyKVRqxzooC5AFa, (1, 3), P), Node(6yHugKLTsZJ3BKCMmz869Q, (1, 4), P)), (Node(6yHugKLTsZJ3BKCMmz869Q, (1, 4), P), Node(YNWrBX8w6YwPcnuLYwteJA, (1, 5), P)), (Node(YNWrBX8w6YwPcnuLYwteJA, (1, 5), P), Node(ABGXREiYvdtqDDN3HFaWwB, (1, 6), P)), (Node(ABGXREiYvdtqDDN3HFaWwB, (1, 6), P), Node(XQ5uCrbivtNXbyJtwtJirs, (1, 7), P)), (Node(XQ5uCrbivtNXbyJtwtJirs, (1, 7), P), Node(8rKy9ztEH7z9AMpokagfkJ, (1, 8), P)), (Node(23wHU3yz8zvwQ8hRzfpjpH, (2, 1), P), Node(Msmr9nNPXxEGgYFRCwLQnh, (3, 1), P)), (Node(Msmr9nNPXxEGgYFRCwLQnh, (3, 1), P), Node(nj4T2NZSGmFnuGWqBgf6kn, (4, 1), P)), (Node(nj4T2NZSGmFnuGWqBgf6kn, (4, 1), P), Node(gRrLuGysZCKdBxPLKh9n5M, (5, 1), P)), (Node(gRrLuGysZCKdBxPLKh9n5M, (5, 1), P), Node(9HqtLUwQb3PHsTgmGHaZA7, (6, 1), P))])"
      ]
     },
     "execution_count": 17,
     "metadata": {},
     "output_type": "execute_result"
    }
   ],
   "source": [
    "# connect all pavements with euclidean of 1\n",
    "for pavement in pavements.nodes:\n",
    "    for other_pavement in pavements.nodes:\n",
    "        if pavement.euclidean_distance(other_pavement) == 1:\n",
    "            pavements.add_edge(pavement, other_pavement)\n",
    "pavements.edges"
   ]
  },
  {
   "cell_type": "code",
   "execution_count": 18,
   "metadata": {},
   "outputs": [
    {
     "data": {
      "text/plain": [
       "(NodeView((Node(gAKyfiB2gvhk3M4zesJCHX, (1, 1), G), Node(SmNc8aqKQqR6HEu6U3mEuB, (1, 9), S), Node(GYR9pCcwYY2XY9TxXdDCnM, (7, 1), H), Node(8rKy9ztEH7z9AMpokagfkJ, (1, 8), P), Node(dNACFqpPdwNp8qoxYauP82, (1, 2), P), Node(23wHU3yz8zvwQ8hRzfpjpH, (2, 1), P), Node(9HqtLUwQb3PHsTgmGHaZA7, (6, 1), P))),\n",
       " NodeView((Node(dNACFqpPdwNp8qoxYauP82, (1, 2), P), Node(PHNeqBRRyKVRqxzooC5AFa, (1, 3), P), Node(6yHugKLTsZJ3BKCMmz869Q, (1, 4), P), Node(YNWrBX8w6YwPcnuLYwteJA, (1, 5), P), Node(ABGXREiYvdtqDDN3HFaWwB, (1, 6), P), Node(XQ5uCrbivtNXbyJtwtJirs, (1, 7), P), Node(8rKy9ztEH7z9AMpokagfkJ, (1, 8), P), Node(23wHU3yz8zvwQ8hRzfpjpH, (2, 1), P), Node(Msmr9nNPXxEGgYFRCwLQnh, (3, 1), P), Node(nj4T2NZSGmFnuGWqBgf6kn, (4, 1), P), Node(gRrLuGysZCKdBxPLKh9n5M, (5, 1), P), Node(9HqtLUwQb3PHsTgmGHaZA7, (6, 1), P))))"
      ]
     },
     "execution_count": 18,
     "metadata": {},
     "output_type": "execute_result"
    }
   ],
   "source": [
    "buildings.nodes, pavements.nodes\n"
   ]
  },
  {
   "cell_type": "code",
   "execution_count": 21,
   "metadata": {},
   "outputs": [
    {
     "data": {
      "text/plain": [
       "ItemsView(NodeView((Node(gAKyfiB2gvhk3M4zesJCHX, (1, 1), G), Node(SmNc8aqKQqR6HEu6U3mEuB, (1, 9), S), Node(GYR9pCcwYY2XY9TxXdDCnM, (7, 1), H), Node(8rKy9ztEH7z9AMpokagfkJ, (1, 8), P), Node(dNACFqpPdwNp8qoxYauP82, (1, 2), P), Node(23wHU3yz8zvwQ8hRzfpjpH, (2, 1), P), Node(9HqtLUwQb3PHsTgmGHaZA7, (6, 1), P))))"
      ]
     },
     "execution_count": 21,
     "metadata": {},
     "output_type": "execute_result"
    }
   ],
   "source": [
    "buildings.nodes.items()"
   ]
  },
  {
   "cell_type": "code",
   "execution_count": null,
   "metadata": {},
   "outputs": [
    {
     "ename": "NodeNotFound",
     "evalue": "Either source Node(FzSdFfPQywxz8c7uqCUMdX, (7, 1), H) or target Node(ciPiYGF5ktSxQFPqcm7WU5, (1, 9), S) is not in G",
     "output_type": "error",
     "traceback": [
      "\u001b[0;31m---------------------------------------------------------------------------\u001b[0m",
      "\u001b[0;31mNodeNotFound\u001b[0m                              Traceback (most recent call last)",
      "Cell \u001b[0;32mIn[66], line 1\u001b[0m\n\u001b[0;32m----> 1\u001b[0m nx\u001b[39m.\u001b[39;49mshortest_path_length(pavements, source\u001b[39m=\u001b[39;49mhome, target\u001b[39m=\u001b[39;49mschool)\n",
      "File \u001b[0;32m~/Documents/4_Programming/Python/model-simulation/.venv/lib/python3.8/site-packages/networkx/algorithms/shortest_paths/generic.py:307\u001b[0m, in \u001b[0;36mshortest_path_length\u001b[0;34m(G, source, target, weight, method)\u001b[0m\n\u001b[1;32m    304\u001b[0m \u001b[39melse\u001b[39;00m:\n\u001b[1;32m    305\u001b[0m     \u001b[39m# Find shortest source-target path.\u001b[39;00m\n\u001b[1;32m    306\u001b[0m     \u001b[39mif\u001b[39;00m method \u001b[39m==\u001b[39m \u001b[39m\"\u001b[39m\u001b[39munweighted\u001b[39m\u001b[39m\"\u001b[39m:\n\u001b[0;32m--> 307\u001b[0m         p \u001b[39m=\u001b[39m nx\u001b[39m.\u001b[39;49mbidirectional_shortest_path(G, source, target)\n\u001b[1;32m    308\u001b[0m         paths \u001b[39m=\u001b[39m \u001b[39mlen\u001b[39m(p) \u001b[39m-\u001b[39m \u001b[39m1\u001b[39m\n\u001b[1;32m    309\u001b[0m     \u001b[39melif\u001b[39;00m method \u001b[39m==\u001b[39m \u001b[39m\"\u001b[39m\u001b[39mdijkstra\u001b[39m\u001b[39m\"\u001b[39m:\n",
      "File \u001b[0;32m~/Documents/4_Programming/Python/model-simulation/.venv/lib/python3.8/site-packages/networkx/algorithms/shortest_paths/unweighted.py:221\u001b[0m, in \u001b[0;36mbidirectional_shortest_path\u001b[0;34m(G, source, target)\u001b[0m\n\u001b[1;32m    219\u001b[0m \u001b[39mif\u001b[39;00m source \u001b[39mnot\u001b[39;00m \u001b[39min\u001b[39;00m G \u001b[39mor\u001b[39;00m target \u001b[39mnot\u001b[39;00m \u001b[39min\u001b[39;00m G:\n\u001b[1;32m    220\u001b[0m     msg \u001b[39m=\u001b[39m \u001b[39mf\u001b[39m\u001b[39m\"\u001b[39m\u001b[39mEither source \u001b[39m\u001b[39m{\u001b[39;00msource\u001b[39m}\u001b[39;00m\u001b[39m or target \u001b[39m\u001b[39m{\u001b[39;00mtarget\u001b[39m}\u001b[39;00m\u001b[39m is not in G\u001b[39m\u001b[39m\"\u001b[39m\n\u001b[0;32m--> 221\u001b[0m     \u001b[39mraise\u001b[39;00m nx\u001b[39m.\u001b[39mNodeNotFound(msg)\n\u001b[1;32m    223\u001b[0m \u001b[39m# call helper to do the real work\u001b[39;00m\n\u001b[1;32m    224\u001b[0m results \u001b[39m=\u001b[39m _bidirectional_pred_succ(G, source, target)\n",
      "\u001b[0;31mNodeNotFound\u001b[0m: Either source Node(FzSdFfPQywxz8c7uqCUMdX, (7, 1), H) or target Node(ciPiYGF5ktSxQFPqcm7WU5, (1, 9), S) is not in G"
     ]
    }
   ],
   "source": [
    "nx.shortest_path_length(pavements, source=home, target=school)"
   ]
  }
 ],
 "metadata": {
  "kernelspec": {
   "display_name": ".venv",
   "language": "python",
   "name": "python3"
  },
  "language_info": {
   "codemirror_mode": {
    "name": "ipython",
    "version": 3
   },
   "file_extension": ".py",
   "mimetype": "text/x-python",
   "name": "python",
   "nbconvert_exporter": "python",
   "pygments_lexer": "ipython3",
   "version": "3.8.8"
  },
  "orig_nbformat": 4,
  "vscode": {
   "interpreter": {
    "hash": "ecf7a7428a24fb13cb364f332cdeb8a06cf8c4b36abd45efd5af6ed37b80420f"
   }
  }
 },
 "nbformat": 4,
 "nbformat_minor": 2
}
