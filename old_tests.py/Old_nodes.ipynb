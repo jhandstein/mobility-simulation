{
 "cells": [
  {
   "cell_type": "code",
   "execution_count": 1,
   "metadata": {},
   "outputs": [],
   "source": [
    "import numpy as np\n",
    "import pandas as pd\n",
    "import networkx as nx\n",
    "import uuid\n",
    "import scipy.spatial.distance as dist\n",
    "\n",
    "from abc import ABC, abstractmethod"
   ]
  },
  {
   "cell_type": "code",
   "execution_count": 2,
   "metadata": {},
   "outputs": [],
   "source": [
    "class StreetSegment:\n",
    "    pass"
   ]
  },
  {
   "cell_type": "code",
   "execution_count": 3,
   "metadata": {},
   "outputs": [],
   "source": [
    "class Node:\n",
    "\n",
    "    node_list = []\n",
    "\n",
    "    def __init__(self, coordinates: tuple, logo: str) -> None:\n",
    "        self.coordinates = coordinates\n",
    "        self.x = coordinates[0]\n",
    "        self.y = coordinates[1]\n",
    "        self.logo = logo\n",
    "        self.id = str(uuid.uuid4())[:8]\n",
    "        # type/logo could be an enum\n",
    "        self.street_element = None\n",
    "        self.element_type = None\n",
    "        self.node_list.append(self)\n",
    "\n",
    "    def __repr__(self) -> str:\n",
    "        return f\"{self.logo}: {self.id}, COORD: {self.coordinates}\"\n",
    "    \n",
    "    def place_on_grid(self, dataframe):\n",
    "        row,col = self.coordinates\n",
    "        dataframe[row][col] = self.logo\n",
    "        return dataframe\n",
    "    \n",
    "    def euclidean_distance(self, node):\n",
    "        return dist.euclidean(self.coordinates, node.coordinates)\n",
    "    \n",
    "    # @abstractmethod\n",
    "    def check_access(self):\n",
    "        pass\n",
    "\n",
    "\n",
    "class Building(Node):\n",
    "\n",
    "    building_list = []\n",
    "\n",
    "    def __init__(self, coordinates: tuple, logo: str, parking_space: bool) -> None:\n",
    "        super().__init__(coordinates, logo)\n",
    "        self.parking_space = parking_space\n",
    "        self.street_element = False\n",
    "        Building.building_list.append(self)\n",
    "\n",
    "    def check_access(self):\n",
    "        pass\n",
    "    \n",
    "\n",
    "class Parking(Node):\n",
    "\n",
    "    parking_list = []\n",
    "    \n",
    "    def __init__(self, coordinates: tuple, logo: str) -> None:\n",
    "            super().__init__(coordinates, logo)\n",
    "\n",
    "    def check_access(self):\n",
    "            pass\n",
    "\n",
    "class Pavement(Node):\n",
    "\n",
    "    pavement_list = []\n",
    "\n",
    "    def __init__(self, coordinates: tuple, logo: str) -> None:\n",
    "            super().__init__(coordinates, logo='Pv')\n",
    "            self.street_element = True\n",
    "            Pavement.pavement_list.append(self)\n",
    "\n",
    "    def check_access(self):\n",
    "        pass\n"
   ]
  },
  {
   "cell_type": "code",
   "execution_count": 4,
   "metadata": {},
   "outputs": [],
   "source": [
    "def initialize_grid():\n",
    "    # create object type numpy array with 10 rows and 10 columns\n",
    "    grid = pd.DataFrame(np.chararray((10,10), itemsize=2))\n",
    "    grid[:] = '*'\n",
    "    for node in Node.node_list:\n",
    "        grid = node.place_on_grid(grid)\n",
    "    return grid\n"
   ]
  },
  {
   "cell_type": "code",
   "execution_count": 5,
   "metadata": {},
   "outputs": [],
   "source": [
    "groceries = Building((1,4),'G', parking_space=False)\n",
    "house = Building((5,4),'H', parking_space=True)\n",
    "# pavement1 = Pavement((1,5),'Pv')\n",
    "# pavement2 = Pavement((2,5),'Pv')\n",
    "# create pavement objects\n",
    "for i in range(1,7):\n",
    "    pavement = Pavement((i,5),'Pv')\n",
    "\n",
    "# create road objects\n",
    "# for i in range(1,7):\n",
    "#     road = Pavement((i,6),'Rd')\n"
   ]
  },
  {
   "cell_type": "code",
   "execution_count": 6,
   "metadata": {},
   "outputs": [
    {
     "name": "stdout",
     "output_type": "stream",
     "text": [
      "   0   1   2   3   4   5   6  7  8  9\n",
      "0  *   *   *   *   *   *   *  *  *  *\n",
      "1  *   *   *   *   *   *   *  *  *  *\n",
      "2  *   *   *   *   *   *   *  *  *  *\n",
      "3  *   *   *   *   *   *   *  *  *  *\n",
      "4  *   G   *   *   *   H   *  *  *  *\n",
      "5  *  Pv  Pv  Pv  Pv  Pv  Pv  *  *  *\n",
      "6  *   *   *   *   *   *   *  *  *  *\n",
      "7  *   *   *   *   *   *   *  *  *  *\n",
      "8  *   *   *   *   *   *   *  *  *  *\n",
      "9  *   *   *   *   *   *   *  *  *  *\n"
     ]
    }
   ],
   "source": [
    "\n",
    "grid = initialize_grid()\n",
    "print(grid)\n"
   ]
  },
  {
   "cell_type": "code",
   "execution_count": 7,
   "metadata": {},
   "outputs": [
    {
     "data": {
      "text/plain": [
       "[G: 8e3a98eb, COORD: (1, 4),\n",
       " H: 6d4c7d7b, COORD: (5, 4),\n",
       " Pv: d100c58c, COORD: (1, 5),\n",
       " Pv: 80666654, COORD: (2, 5),\n",
       " Pv: d9b1d5be, COORD: (3, 5),\n",
       " Pv: 226e8278, COORD: (4, 5),\n",
       " Pv: 51fdc5e2, COORD: (5, 5),\n",
       " Pv: 242061d1, COORD: (6, 5)]"
      ]
     },
     "execution_count": 7,
     "metadata": {},
     "output_type": "execute_result"
    }
   ],
   "source": [
    "groceries.node_list"
   ]
  },
  {
   "cell_type": "code",
   "execution_count": 8,
   "metadata": {},
   "outputs": [],
   "source": [
    "# Create pavement graph and add nodes\n",
    "G = nx.Graph()\n"
   ]
  },
  {
   "cell_type": "code",
   "execution_count": 9,
   "metadata": {},
   "outputs": [
    {
     "data": {
      "text/plain": [
       "<dict_keyiterator at 0x7f9cfa9690e0>"
      ]
     },
     "execution_count": 9,
     "metadata": {},
     "output_type": "execute_result"
    }
   ],
   "source": [
    "\n",
    "for pavement in Pavement.pavement_list:\n",
    "    G.add_node(pavement)\n",
    "\n",
    "# add pavement edges\n",
    "G.add_edge(Pavement.pavement_list[0], Pavement.pavement_list[1], distance=Pavement.pavement_list[0].euclidean_distance(Pavement.pavement_list[1]))\n",
    "G.add_edge(Pavement.pavement_list[1], Pavement.pavement_list[2], distance=Pavement.pavement_list[1].euclidean_distance(Pavement.pavement_list[2]))\n",
    "G.add_edge(Pavement.pavement_list[2], Pavement.pavement_list[3], distance=Pavement.pavement_list[2].euclidean_distance(Pavement.pavement_list[3]))\n",
    "G.add_edge(Pavement.pavement_list[3], Pavement.pavement_list[4], distance=Pavement.pavement_list[3].euclidean_distance(Pavement.pavement_list[4]))\n",
    "G.add_edge(Pavement.pavement_list[4], Pavement.pavement_list[5], distance=Pavement.pavement_list[4].euclidean_distance(Pavement.pavement_list[5]))\n",
    "\n",
    "# add edges from pavement to buildings\n",
    "G.add_edge(Pavement.pavement_list[0], Building.building_list[0], distance=0.1)\n",
    "G.add_edge(Pavement.pavement_list[5], Building.building_list[1], distance=0.1)\n",
    "\n",
    "\n",
    "G.neighbors(Pavement.pavement_list[0])"
   ]
  },
  {
   "cell_type": "code",
   "execution_count": 10,
   "metadata": {},
   "outputs": [
    {
     "name": "stdout",
     "output_type": "stream",
     "text": [
      "Pv: 80666654, COORD: (2, 5)\n",
      "G: 8e3a98eb, COORD: (1, 4)\n"
     ]
    }
   ],
   "source": [
    "for neighbour in G.neighbors(Pavement.pavement_list[0]):\n",
    "    print(neighbour)\n",
    "    "
   ]
  },
  {
   "cell_type": "code",
   "execution_count": 11,
   "metadata": {},
   "outputs": [
    {
     "data": {
      "text/plain": [
       "EdgeDataView([(Pv: d100c58c, COORD: (1, 5), Pv: 80666654, COORD: (2, 5), {'distance': 1.0}), (Pv: d100c58c, COORD: (1, 5), G: 8e3a98eb, COORD: (1, 4), {'distance': 0.1}), (Pv: 80666654, COORD: (2, 5), Pv: d9b1d5be, COORD: (3, 5), {'distance': 1.0}), (Pv: d9b1d5be, COORD: (3, 5), Pv: 226e8278, COORD: (4, 5), {'distance': 1.0}), (Pv: 226e8278, COORD: (4, 5), Pv: 51fdc5e2, COORD: (5, 5), {'distance': 1.0}), (Pv: 51fdc5e2, COORD: (5, 5), Pv: 242061d1, COORD: (6, 5), {'distance': 1.0}), (Pv: 242061d1, COORD: (6, 5), H: 6d4c7d7b, COORD: (5, 4), {'distance': 0.1})])"
      ]
     },
     "execution_count": 11,
     "metadata": {},
     "output_type": "execute_result"
    }
   ],
   "source": [
    "# show list of edges in graph\n",
    "type(G.edges())\n",
    "G.edges().data()\n"
   ]
  },
  {
   "cell_type": "code",
   "execution_count": 12,
   "metadata": {},
   "outputs": [
    {
     "data": {
      "text/plain": [
       "[G: 8e3a98eb, COORD: (1, 4),\n",
       " Pv: d100c58c, COORD: (1, 5),\n",
       " Pv: 80666654, COORD: (2, 5),\n",
       " Pv: d9b1d5be, COORD: (3, 5),\n",
       " Pv: 226e8278, COORD: (4, 5),\n",
       " Pv: 51fdc5e2, COORD: (5, 5),\n",
       " Pv: 242061d1, COORD: (6, 5),\n",
       " H: 6d4c7d7b, COORD: (5, 4)]"
      ]
     },
     "execution_count": 12,
     "metadata": {},
     "output_type": "execute_result"
    }
   ],
   "source": [
    "nx.shortest_path(G, Building.building_list[0], Building.building_list[1], weight='distance')\n"
   ]
  },
  {
   "cell_type": "code",
   "execution_count": 13,
   "metadata": {},
   "outputs": [
    {
     "data": {
      "text/plain": [
       "5.199999999999999"
      ]
     },
     "execution_count": 13,
     "metadata": {},
     "output_type": "execute_result"
    }
   ],
   "source": [
    "nx.shortest_path_length(G, Building.building_list[0], Building.building_list[1], weight='distance')"
   ]
  },
  {
   "attachments": {},
   "cell_type": "markdown",
   "metadata": {},
   "source": [
    "### Implement NodeRegister (do I need this)?"
   ]
  },
  {
   "cell_type": "code",
   "execution_count": 14,
   "metadata": {},
   "outputs": [],
   "source": [
    "class NodeRegister:\n",
    "    \n",
    "    def __init__(self):\n",
    "        self.buildings = {node.id: node for node in Building.building_list} \n",
    "        self.pavements = {node.id: node for node in Pavement.pavement_list}"
   ]
  },
  {
   "cell_type": "code",
   "execution_count": 15,
   "metadata": {},
   "outputs": [
    {
     "data": {
      "text/plain": [
       "{'8e3a98eb': G: 8e3a98eb, COORD: (1, 4),\n",
       " '6d4c7d7b': H: 6d4c7d7b, COORD: (5, 4)}"
      ]
     },
     "execution_count": 15,
     "metadata": {},
     "output_type": "execute_result"
    }
   ],
   "source": [
    "register = NodeRegister()\n",
    "register.buildings"
   ]
  }
 ],
 "metadata": {
  "kernelspec": {
   "display_name": ".venv",
   "language": "python",
   "name": "python3"
  },
  "language_info": {
   "codemirror_mode": {
    "name": "ipython",
    "version": 3
   },
   "file_extension": ".py",
   "mimetype": "text/x-python",
   "name": "python",
   "nbconvert_exporter": "python",
   "pygments_lexer": "ipython3",
   "version": "3.8.8 (default, Apr 13 2021, 12:59:45) \n[Clang 10.0.0 ]"
  },
  "orig_nbformat": 4,
  "vscode": {
   "interpreter": {
    "hash": "ecf7a7428a24fb13cb364f332cdeb8a06cf8c4b36abd45efd5af6ed37b80420f"
   }
  }
 },
 "nbformat": 4,
 "nbformat_minor": 2
}
