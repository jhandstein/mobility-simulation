{
 "cells": [
  {
   "cell_type": "code",
   "execution_count": 52,
   "metadata": {},
   "outputs": [],
   "source": [
    "import numpy as np\n",
    "import pandas as pd\n",
    "\n",
    "from abc import ABC, abstractmethod"
   ]
  },
  {
   "cell_type": "code",
   "execution_count": 53,
   "metadata": {},
   "outputs": [],
   "source": [
    "class StreetSegment:\n",
    "    pass"
   ]
  },
  {
   "cell_type": "code",
   "execution_count": 54,
   "metadata": {},
   "outputs": [],
   "source": [
    "class NodeRegister:\n",
    "    pass"
   ]
  },
  {
   "cell_type": "code",
   "execution_count": 55,
   "metadata": {},
   "outputs": [],
   "source": [
    "\n",
    "\n",
    "class Node:\n",
    "\n",
    "    node_list = []\n",
    "\n",
    "    def __init__(self, coordinates: tuple, logo: str) -> None:\n",
    "        self.coordinates = coordinates\n",
    "        self.logo = logo\n",
    "        # type/logo could be an enum\n",
    "        self.node_list.append(self)\n",
    "    \n",
    "    def placeOnGrid(self, dataframe):\n",
    "        row,col = self.coordinates\n",
    "        dataframe[row][col] = self.logo\n",
    "        return dataframe\n",
    "    \n",
    "    # @abstractmethod\n",
    "    def checkAccess(self):\n",
    "        pass\n",
    "\n",
    "class Building(Node):\n",
    "\n",
    "    def __init__(self, coordinates: tuple, logo: str, parking_space: bool) -> None:\n",
    "        super().__init__(coordinates, logo)\n",
    "        self.parking_space = parking_space\n",
    "\n",
    "    def checkAccess(self):\n",
    "        pass\n",
    "    \n",
    "\n",
    "class Parking(Node):\n",
    "\n",
    "    parking_list = []\n",
    "    \n",
    "    def __init__(self, coordinates: tuple, logo: str) -> None:\n",
    "            super().__init__(coordinates, logo)\n",
    "\n",
    "    def checkAccess(self):\n",
    "            pass\n",
    "\n",
    "class Pavement(Node):\n",
    "\n",
    "    pavement_list = []\n",
    "\n",
    "    def __init__(self, coordinates: tuple, logo: str) -> None:\n",
    "            super().__init__(coordinates, logo)\n",
    "\n",
    "    def checkAccess(self):\n",
    "        pass\n"
   ]
  },
  {
   "cell_type": "code",
   "execution_count": 56,
   "metadata": {},
   "outputs": [],
   "source": [
    "def initialize_grid():\n",
    "    # create object type numpy array with 10 rows and 10 columns\n",
    "    grid = pd.DataFrame(np.chararray((10,10), itemsize=2))\n",
    "    grid[:] = '*'\n",
    "    for node in Node.node_list:\n",
    "        grid = node.placeOnGrid(grid)\n",
    "    return grid\n"
   ]
  },
  {
   "cell_type": "code",
   "execution_count": 57,
   "metadata": {},
   "outputs": [],
   "source": [
    "shop = Building((1,4),'S', False)\n",
    "pavement1 = Pavement((1,5),'Pv')\n",
    "pavement2 = Pavement((1,6),'Pv')\n"
   ]
  },
  {
   "cell_type": "code",
   "execution_count": 58,
   "metadata": {},
   "outputs": [
    {
     "name": "stdout",
     "output_type": "stream",
     "text": [
      "   0   1  2  3  4  5  6  7  8  9\n",
      "0  0   *  *  *  *  *  *  *  *  *\n",
      "1  *   *  *  *  *  *  *  *  *  *\n",
      "2  *   *  *  *  *  *  *  *  *  *\n",
      "3  *   *  *  *  *  *  *  *  *  *\n",
      "4  *   S  *  *  *  *  *  *  *  *\n",
      "5  *  Pv  *  *  *  *  *  *  *  *\n",
      "6  *  Pv  *  *  *  *  *  *  *  *\n",
      "7  *   *  *  *  *  *  *  *  *  *\n",
      "8  *   *  *  *  *  *  *  *  *  *\n",
      "9  *   *  *  *  *  *  *  *  *  *\n"
     ]
    }
   ],
   "source": [
    "\n",
    "grid = initialize_grid()\n",
    "print(grid)\n"
   ]
  },
  {
   "cell_type": "code",
   "execution_count": 60,
   "metadata": {},
   "outputs": [
    {
     "data": {
      "text/plain": [
       "[<__main__.Building at 0x7fd218911ac0>,\n",
       " <__main__.Pavement at 0x7fd218911070>,\n",
       " <__main__.Pavement at 0x7fd218911970>,\n",
       " <__main__.Node at 0x7fd1d9a4cd30>]"
      ]
     },
     "execution_count": 60,
     "metadata": {},
     "output_type": "execute_result"
    }
   ],
   "source": [
    "shop.node_list"
   ]
  }
 ],
 "metadata": {
  "kernelspec": {
   "display_name": ".venv",
   "language": "python",
   "name": "python3"
  },
  "language_info": {
   "codemirror_mode": {
    "name": "ipython",
    "version": 3
   },
   "file_extension": ".py",
   "mimetype": "text/x-python",
   "name": "python",
   "nbconvert_exporter": "python",
   "pygments_lexer": "ipython3",
   "version": "3.8.8"
  },
  "orig_nbformat": 4,
  "vscode": {
   "interpreter": {
    "hash": "ecf7a7428a24fb13cb364f332cdeb8a06cf8c4b36abd45efd5af6ed37b80420f"
   }
  }
 },
 "nbformat": 4,
 "nbformat_minor": 2
}
