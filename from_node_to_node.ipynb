{
 "cells": [
  {
   "cell_type": "code",
   "execution_count": 127,
   "metadata": {},
   "outputs": [],
   "source": [
    "import networkx as nx\n",
    "import matplotlib.pyplot as plt"
   ]
  },
  {
   "cell_type": "code",
   "execution_count": 128,
   "metadata": {},
   "outputs": [],
   "source": [
    "class Node:\n",
    "\n",
    "    node_list = []\n",
    "\n",
    "    def __init__(self, x_pos: int, y_pos: int, logo: str, driving=False) -> None:\n",
    "        self.x = x_pos\n",
    "        self.y = y_pos\n",
    "        self.logo = logo\n",
    "        # type/logo could be an enum\n",
    "        self.node_list.append(self)\n",
    "        self.driving = driving\n",
    "    \n",
    "    def placeOnGrid(self, dataframe):\n",
    "        dataframe[self.x][self.y] = self.logo\n",
    "        return dataframe\n",
    "    \n",
    "    # @abstractmethod\n",
    "    def checkAccess(self):\n",
    "        pass\n",
    "\n",
    "class Building(Node):\n",
    "\n",
    "    def __init__(self, x_pos: int, y_pos: int, logo: str, driving: bool) -> None:\n",
    "        super().__init__(x_pos, y_pos, logo, driving=False)\n",
    "\n",
    "    def checkAccess(self):\n",
    "        pass\n",
    "    \n",
    "\n",
    "class Parking(Node):\n",
    "\n",
    "    parking_list = []\n",
    "    \n",
    "    def __init__(self, x_pos: int, y_pos: int, logo: str) -> None:\n",
    "            super().__init__(x_pos, y_pos, logo, driving=True)\n",
    "\n",
    "    def checkAccess(self):\n",
    "            pass\n",
    "\n",
    "class Footpath(Node):\n",
    "\n",
    "    footpath_list = []\n",
    "\n",
    "    def __init__(self, x_pos: int, y_pos: int, logo: str) -> None:\n",
    "            super().__init__(x_pos, y_pos, logo, driving=False)\n",
    "\n",
    "    def checkAccess(self):\n",
    "        pass\n"
   ]
  },
  {
   "cell_type": "code",
   "execution_count": 129,
   "metadata": {},
   "outputs": [],
   "source": [
    "shop = Building(1,2,logo='S', driving=True)\n",
    "footpath1 = Footpath(1,5,logo='F')\n",
    "footpath2 = Footpath(6,5,logo='F')\n",
    "parking= Parking(7,9,logo='P')\n"
   ]
  },
  {
   "cell_type": "code",
   "execution_count": 130,
   "metadata": {},
   "outputs": [],
   "source": [
    "grid_walking = nx.Graph()\n",
    "\n",
    "# Add nodes\n",
    "grid_walking.add_node(shop)\n",
    "grid_walking.add_node(footpath1)\n",
    "grid_walking.add_node(footpath2)\n",
    "grid_walking.add_node(parking)\n"
   ]
  },
  {
   "cell_type": "code",
   "execution_count": 131,
   "metadata": {},
   "outputs": [
    {
     "name": "stdout",
     "output_type": "stream",
     "text": [
      "S 1 2 <__main__.Building object at 0x7ff07a64a0d0>\n",
      "F 1 5 <__main__.Footpath object at 0x7ff07a64a4c0>\n",
      "F 6 5 <__main__.Footpath object at 0x7ff07a64a2b0>\n",
      "P 7 9 <__main__.Parking object at 0x7ff07a64a880>\n"
     ]
    }
   ],
   "source": [
    "for node in grid_walking.nodes:\n",
    "    print(node.logo, node.x, node.y, node)\n"
   ]
  },
  {
   "cell_type": "code",
   "execution_count": 132,
   "metadata": {},
   "outputs": [
    {
     "data": {
      "text/plain": [
       "4"
      ]
     },
     "execution_count": 132,
     "metadata": {},
     "output_type": "execute_result"
    }
   ],
   "source": [
    "grid_walking.number_of_nodes()"
   ]
  },
  {
   "attachments": {},
   "cell_type": "markdown",
   "metadata": {},
   "source": [
    "### Add edges"
   ]
  },
  {
   "cell_type": "code",
   "execution_count": 133,
   "metadata": {},
   "outputs": [
    {
     "data": {
      "text/plain": [
       "9.219544457292887"
      ]
     },
     "execution_count": 133,
     "metadata": {},
     "output_type": "execute_result"
    }
   ],
   "source": [
    "from scipy.spatial import distance\n",
    "\n",
    "def euclidean_distance(node1, node2):\n",
    "   x1, y1 = node1.x, node1.y\n",
    "   x2, y2 = node2.x, node2.y\n",
    "   return distance.euclidean((x1, y1), (x2, y2))\n",
    "   #\n",
    "   # return nx.shortest_path_length(grid_walking, node1, node2, weight=\"distance\")\n",
    "\n",
    "euclidean_distance(shop, parking)"
   ]
  },
  {
   "cell_type": "code",
   "execution_count": 134,
   "metadata": {},
   "outputs": [],
   "source": [
    "class Edge:\n",
    "    \n",
    "        def __init__(self, node1, node2) -> None:\n",
    "            self.node1 = node1\n",
    "            self.node2 = node2\n",
    "            self.distance = euclidean_distance(node1, node2)"
   ]
  },
  {
   "cell_type": "code",
   "execution_count": 135,
   "metadata": {},
   "outputs": [],
   "source": [
    "grid_walking.add_edge(shop, footpath1, distance=euclidean_distance(shop, footpath1))\n",
    "grid_walking.add_edge(footpath1, footpath2, distance=euclidean_distance(footpath1, footpath2))\n",
    "grid_walking.add_edge(footpath2, parking, distance=euclidean_distance(footpath2, parking))"
   ]
  },
  {
   "cell_type": "code",
   "execution_count": 147,
   "metadata": {},
   "outputs": [],
   "source": [
    "def walking_distance(node1, node2):\n",
    "    parameters = (grid_walking, node1, node2)\n",
    "    return round(nx.shortest_path_length(*parameters, weight=\"distance\"), 2)"
   ]
  },
  {
   "cell_type": "code",
   "execution_count": 148,
   "metadata": {},
   "outputs": [
    {
     "data": {
      "text/plain": [
       "12.12"
      ]
     },
     "execution_count": 148,
     "metadata": {},
     "output_type": "execute_result"
    }
   ],
   "source": [
    "walking_distance(shop, parking)"
   ]
  },
  {
   "attachments": {},
   "cell_type": "markdown",
   "metadata": {},
   "source": [
    "### Add driving distance"
   ]
  },
  {
   "cell_type": "code",
   "execution_count": 138,
   "metadata": {},
   "outputs": [
    {
     "name": "stdout",
     "output_type": "stream",
     "text": [
      "S 1 2\n",
      "F 1 5\n",
      "F 6 5\n",
      "P 7 9\n"
     ]
    }
   ],
   "source": [
    "grid_driving = nx.Graph()\n",
    "\n",
    "for node in Node.node_list:\n",
    "    grid_driving.add_node(node)\n",
    "\n",
    "for node in grid_driving.nodes:\n",
    "    print(node.logo, node.x, node.y)\n",
    "\n",
    "grid_driving.add_edge(shop, parking, distance=4)\n",
    "\n"
   ]
  },
  {
   "cell_type": "code",
   "execution_count": 140,
   "metadata": {},
   "outputs": [
    {
     "data": {
      "text/plain": [
       "4"
      ]
     },
     "execution_count": 140,
     "metadata": {},
     "output_type": "execute_result"
    }
   ],
   "source": [
    "def driving_distance(node1, node2):\n",
    "    parameters = (grid_driving, node1, node2)\n",
    "    return round(nx.shortest_path_length(*parameters, weight=\"distance\"), 2)\n",
    "\n",
    "\n",
    "driving_distance(shop, parking)"
   ]
  }
 ],
 "metadata": {
  "kernelspec": {
   "display_name": ".venv",
   "language": "python",
   "name": "python3"
  },
  "language_info": {
   "codemirror_mode": {
    "name": "ipython",
    "version": 3
   },
   "file_extension": ".py",
   "mimetype": "text/x-python",
   "name": "python",
   "nbconvert_exporter": "python",
   "pygments_lexer": "ipython3",
   "version": "3.8.8"
  },
  "orig_nbformat": 4,
  "vscode": {
   "interpreter": {
    "hash": "ecf7a7428a24fb13cb364f332cdeb8a06cf8c4b36abd45efd5af6ed37b80420f"
   }
  }
 },
 "nbformat": 4,
 "nbformat_minor": 2
}
